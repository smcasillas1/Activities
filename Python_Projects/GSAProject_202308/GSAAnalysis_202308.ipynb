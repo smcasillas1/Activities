{
 "cells": [
  {
   "cell_type": "markdown",
   "metadata": {},
   "source": [
    "#GSA Data Analysis Project"
   ]
  },
  {
   "cell_type": "code",
   "execution_count": null,
   "metadata": {},
   "outputs": [],
   "source": [
    "#Load necessary packages to complete this data analysis project\n",
    "import pandas as pd\n",
    "import numpy as np"
   ]
  },
  {
   "cell_type": "code",
   "execution_count": null,
   "metadata": {},
   "outputs": [],
   "source": [
    "#Import Source .xlsx Worksheets - Contracts(Obligations) & Transactions(Expenditures)\n",
    "file_wkshts = pd.read_excel('Round 2 Written Assessment - Data.xlsx', sheet_name=None)\n",
    "\n",
    "#identify .xlsx sheets\n",
    "contracts_df = pd.DataFrame(file_wkshts['Contracts'],columns=None)\n",
    "transactions_df = pd.DataFrame(file_wkshts['Transactions'],columns=None)\n",
    "\n",
    "#View my df headers - Contracts & Transactions\n",
    "# print(contracts_df.keys())\n",
    "# print(\"\\n \")\n",
    "# print(transactions_df.keys())"
   ]
  },
  {
   "cell_type": "code",
   "execution_count": null,
   "metadata": {},
   "outputs": [],
   "source": [
    "#Display Contracts_df\n",
    "contracts_df"
   ]
  },
  {
   "cell_type": "code",
   "execution_count": null,
   "metadata": {},
   "outputs": [],
   "source": [
    "#Contracts_df - Remove Trailing spaces on str fields \n",
    "contracts_df['ContractID'].str.strip()\n",
    "contracts_df['Customer'].str.strip()\n",
    "contracts_df['Category'].str.strip()\n",
    "\n",
    "#changed DollarsObligated to Float\n",
    "contracts_df['DollarsObligated'] = contracts_df['DollarsObligated'].astype('float64')\n",
    "\n",
    "#view Contracts_df after changes\n",
    "contracts_df"
   ]
  },
  {
   "cell_type": "code",
   "execution_count": null,
   "metadata": {},
   "outputs": [],
   "source": [
    "#Display Transactions_df\n",
    "transactions_df"
   ]
  },
  {
   "cell_type": "code",
   "execution_count": null,
   "metadata": {},
   "outputs": [],
   "source": [
    "#Remove trailing spaces from str fields\n",
    "transactions_df['TransactionID'].str.strip()\n",
    "transactions_df['ContractID'].str.strip()\n",
    "transactions_df['Description'].str.strip()\n",
    "\n",
    "#changed DollarsObligated to Float\n",
    "transactions_df['Price'] = transactions_df['Price'].astype('float64')\n",
    "\n",
    "#View transactions_df after changes\n",
    "#transactions_df"
   ]
  },
  {
   "cell_type": "code",
   "execution_count": null,
   "metadata": {},
   "outputs": [],
   "source": [
    "#Merge both dataframes to analyze data\n",
    "merge_df = pd.merge(contracts_df,transactions_df,how='left',on=['ContractID'])\n",
    "\n",
    "#Rename Transaction and Contract Date Columns\n",
    "merge_df2 = merge_df.rename(columns={\"Date_x\":\"Contract_Dt\", \"Date_y\":\"Transaction_Dt\"},inplace=True)\n",
    "\n",
    "#View merged df\n",
    "merge_df"
   ]
  },
  {
   "cell_type": "code",
   "execution_count": null,
   "metadata": {},
   "outputs": [],
   "source": [
    "#print merge_df to csv\n",
    "#merge_df.to_csv('master_data.csv', index=False)"
   ]
  },
  {
   "cell_type": "code",
   "execution_count": null,
   "metadata": {},
   "outputs": [],
   "source": [
    "#Question 1: Calculate number of transactions for each ContractID and sort transaction count in DESC order\n",
    "transaction_ct = merge_df.groupby(by=['ContractID'])['TransactionID'].count().sort_values(ascending=False)\n",
    "transaction_ct"
   ]
  },
  {
   "cell_type": "code",
   "execution_count": null,
   "metadata": {},
   "outputs": [],
   "source": [
    "#Question 2: Calculate Average transaction dollar value on each day in March\n",
    "avg_transaction = merge_df.groupby(by=['Transaction_Dt'])['Price'].mean().filter(like='2020-03')\n",
    "avg_transaction"
   ]
  },
  {
   "cell_type": "code",
   "execution_count": null,
   "metadata": {},
   "outputs": [],
   "source": [
    "#Question 3: Calculate what percentage of each customer's associated obligations have been spent as transactions\n",
    "\n",
    "#Create function to calculate Expended Percentage\n",
    "def customer_expended(merge_df):\n",
    "    return merge_df['Price'].sum() / float(merge_df['DollarsObligated'].mean())\n",
    "\n",
    "#Group by Customer, Category, and ContractID to get the DollarsObligated and Price\n",
    "cust_activity1 = merge_df.groupby(by=['Customer','Category','ContractID']).agg({'DollarsObligated':np.mean, 'Price':np.sum})\n",
    "\n",
    "\n",
    "#Apply Expended Percentage by same grouping mentioned above (lines 7-8)\n",
    "cust_activity2 = merge_df.groupby(by=['Customer','Category','ContractID']).agg({'DollarsObligated':np.mean, 'Price':np.sum}).apply(customer_expended, axis=1)\n",
    "\n",
    "#Combine both Cust_Activity1 and Cust_Activity2 to have Expended Percentage function together\n",
    "consolidated_cust_activity = pd.concat([cust_activity1,cust_activity2],axis=1)\n",
    "\n",
    "#Rename Expended Percentage Column\n",
    "consolidated_cust_activity.rename(columns={consolidated_cust_activity.columns[2]:'ContractExpendedPercentage'})"
   ]
  }
 ],
 "metadata": {
  "kernelspec": {
   "display_name": "Python 3",
   "language": "python",
   "name": "python3"
  },
  "language_info": {
   "codemirror_mode": {
    "name": "ipython",
    "version": 3
   },
   "file_extension": ".py",
   "mimetype": "text/x-python",
   "name": "python",
   "nbconvert_exporter": "python",
   "pygments_lexer": "ipython3",
   "version": "3.11.2"
  },
  "orig_nbformat": 4
 },
 "nbformat": 4,
 "nbformat_minor": 2
}
